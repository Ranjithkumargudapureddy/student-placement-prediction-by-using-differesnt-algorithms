{
  "nbformat": 4,
  "nbformat_minor": 0,
  "metadata": {
    "colab": {
      "name": "student placement.ipynb",
      "provenance": []
    },
    "kernelspec": {
      "name": "python3",
      "display_name": "Python 3"
    },
    "language_info": {
      "name": "python"
    }
  },
  "cells": [
    {
      "cell_type": "code",
      "metadata": {
        "id": "G8eojHjU_bm3"
      },
      "source": [
        "import pandas as pd\n",
        "import matplotlib.pyplot as plt\n",
        "import seaborn as sns\n",
        "from sklearn.preprocessing import LabelEncoder\n",
        "from sklearn.preprocessing import StandardScaler\n",
        "from sklearn.model_selection import train_test_split\n",
        "from sklearn.linear_model import LogisticRegression\n",
        "from sklearn.naive_bayes import GaussianNB\n",
        "from sklearn import svm\n",
        "from sklearn.metrics import accuracy_score, confusion_matrix, classification_report\n"
      ],
      "execution_count": null,
      "outputs": []
    },
    {
      "cell_type": "code",
      "metadata": {
        "id": "bS7aoOBHA8s8"
      },
      "source": [
        "dataset = pd.read_csv('/placementdata.txt.csv')"
      ],
      "execution_count": null,
      "outputs": []
    },
    {
      "cell_type": "code",
      "metadata": {
        "colab": {
          "base_uri": "https://localhost:8080/",
          "height": 203
        },
        "id": "Z-1XxkMYBLIy",
        "outputId": "0af4a1f6-09c8-4091-9424-189ebb141975"
      },
      "source": [
        "dataset.head()"
      ],
      "execution_count": null,
      "outputs": [
        {
          "output_type": "execute_result",
          "data": {
            "text/html": [
              "<div>\n",
              "<style scoped>\n",
              "    .dataframe tbody tr th:only-of-type {\n",
              "        vertical-align: middle;\n",
              "    }\n",
              "\n",
              "    .dataframe tbody tr th {\n",
              "        vertical-align: top;\n",
              "    }\n",
              "\n",
              "    .dataframe thead th {\n",
              "        text-align: right;\n",
              "    }\n",
              "</style>\n",
              "<table border=\"1\" class=\"dataframe\">\n",
              "  <thead>\n",
              "    <tr style=\"text-align: right;\">\n",
              "      <th></th>\n",
              "      <th>RegNo.</th>\n",
              "      <th>Quants</th>\n",
              "      <th>LogicalReasoning</th>\n",
              "      <th>Verbal</th>\n",
              "      <th>Programming</th>\n",
              "      <th>CGPA</th>\n",
              "      <th>Networking</th>\n",
              "      <th>CloudComp</th>\n",
              "      <th>WebServices</th>\n",
              "      <th>DataAnalytics</th>\n",
              "      <th>QualityAssurance</th>\n",
              "      <th>AI</th>\n",
              "      <th>Placed</th>\n",
              "    </tr>\n",
              "  </thead>\n",
              "  <tbody>\n",
              "    <tr>\n",
              "      <th>0</th>\n",
              "      <td>T150054001</td>\n",
              "      <td>11</td>\n",
              "      <td>11</td>\n",
              "      <td>10</td>\n",
              "      <td>11</td>\n",
              "      <td>10.00</td>\n",
              "      <td>4.3</td>\n",
              "      <td>6.2</td>\n",
              "      <td>7.4</td>\n",
              "      <td>8.3</td>\n",
              "      <td>8.1</td>\n",
              "      <td>8.0</td>\n",
              "      <td>1</td>\n",
              "    </tr>\n",
              "    <tr>\n",
              "      <th>1</th>\n",
              "      <td>T150054002</td>\n",
              "      <td>8</td>\n",
              "      <td>10</td>\n",
              "      <td>11</td>\n",
              "      <td>18</td>\n",
              "      <td>8.80</td>\n",
              "      <td>8.9</td>\n",
              "      <td>8.0</td>\n",
              "      <td>8.0</td>\n",
              "      <td>8.0</td>\n",
              "      <td>8.3</td>\n",
              "      <td>9.4</td>\n",
              "      <td>1</td>\n",
              "    </tr>\n",
              "    <tr>\n",
              "      <th>2</th>\n",
              "      <td>T150054003</td>\n",
              "      <td>11</td>\n",
              "      <td>11</td>\n",
              "      <td>10</td>\n",
              "      <td>8</td>\n",
              "      <td>9.63</td>\n",
              "      <td>8.4</td>\n",
              "      <td>8.0</td>\n",
              "      <td>8.0</td>\n",
              "      <td>8.0</td>\n",
              "      <td>8.0</td>\n",
              "      <td>5.4</td>\n",
              "      <td>1</td>\n",
              "    </tr>\n",
              "    <tr>\n",
              "      <th>3</th>\n",
              "      <td>T150054004</td>\n",
              "      <td>14</td>\n",
              "      <td>13</td>\n",
              "      <td>8</td>\n",
              "      <td>8</td>\n",
              "      <td>6.55</td>\n",
              "      <td>4.5</td>\n",
              "      <td>6.5</td>\n",
              "      <td>6.9</td>\n",
              "      <td>3.3</td>\n",
              "      <td>4.1</td>\n",
              "      <td>4.6</td>\n",
              "      <td>0</td>\n",
              "    </tr>\n",
              "    <tr>\n",
              "      <th>4</th>\n",
              "      <td>T150054005</td>\n",
              "      <td>10</td>\n",
              "      <td>7</td>\n",
              "      <td>7</td>\n",
              "      <td>10</td>\n",
              "      <td>7.27</td>\n",
              "      <td>3.1</td>\n",
              "      <td>5.6</td>\n",
              "      <td>6.7</td>\n",
              "      <td>4.6</td>\n",
              "      <td>2.7</td>\n",
              "      <td>4.4</td>\n",
              "      <td>0</td>\n",
              "    </tr>\n",
              "  </tbody>\n",
              "</table>\n",
              "</div>"
            ],
            "text/plain": [
              "       RegNo.  Quants  LogicalReasoning  ...  QualityAssurance   AI  Placed\n",
              "0  T150054001      11                11  ...               8.1  8.0       1\n",
              "1  T150054002       8                10  ...               8.3  9.4       1\n",
              "2  T150054003      11                11  ...               8.0  5.4       1\n",
              "3  T150054004      14                13  ...               4.1  4.6       0\n",
              "4  T150054005      10                 7  ...               2.7  4.4       0\n",
              "\n",
              "[5 rows x 13 columns]"
            ]
          },
          "metadata": {},
          "execution_count": 4
        }
      ]
    },
    {
      "cell_type": "code",
      "metadata": {
        "colab": {
          "base_uri": "https://localhost:8080/"
        },
        "id": "ZecRHPRKBcY0",
        "outputId": "2b02e3fe-72dc-4307-adb3-9f1d61060654"
      },
      "source": [
        "# missing values checking\n",
        "dataset.isnull().sum()"
      ],
      "execution_count": null,
      "outputs": [
        {
          "output_type": "execute_result",
          "data": {
            "text/plain": [
              "RegNo.              0\n",
              "Quants              0\n",
              "LogicalReasoning    0\n",
              "Verbal              0\n",
              "Programming         0\n",
              "CGPA                0\n",
              "Networking          0\n",
              "CloudComp           0\n",
              "WebServices         0\n",
              "DataAnalytics       0\n",
              "QualityAssurance    0\n",
              "AI                  0\n",
              "Placed              0\n",
              "dtype: int64"
            ]
          },
          "metadata": {},
          "execution_count": 6
        }
      ]
    },
    {
      "cell_type": "code",
      "metadata": {
        "colab": {
          "base_uri": "https://localhost:8080/"
        },
        "id": "q8c-F5-pB4f6",
        "outputId": "c24061aa-463e-4ace-e520-8820a5082ef7"
      },
      "source": [
        "# checking column values data type\n",
        "dataset.info()"
      ],
      "execution_count": null,
      "outputs": [
        {
          "output_type": "stream",
          "text": [
            "<class 'pandas.core.frame.DataFrame'>\n",
            "RangeIndex: 330 entries, 0 to 329\n",
            "Data columns (total 13 columns):\n",
            " #   Column            Non-Null Count  Dtype  \n",
            "---  ------            --------------  -----  \n",
            " 0   RegNo.            330 non-null    object \n",
            " 1   Quants            330 non-null    int64  \n",
            " 2   LogicalReasoning  330 non-null    int64  \n",
            " 3   Verbal            330 non-null    int64  \n",
            " 4   Programming       330 non-null    int64  \n",
            " 5   CGPA              330 non-null    float64\n",
            " 6   Networking        330 non-null    float64\n",
            " 7   CloudComp         330 non-null    float64\n",
            " 8   WebServices       330 non-null    float64\n",
            " 9   DataAnalytics     330 non-null    float64\n",
            " 10  QualityAssurance  330 non-null    float64\n",
            " 11  AI                330 non-null    float64\n",
            " 12  Placed            330 non-null    int64  \n",
            "dtypes: float64(7), int64(5), object(1)\n",
            "memory usage: 33.6+ KB\n"
          ],
          "name": "stdout"
        }
      ]
    },
    {
      "cell_type": "markdown",
      "metadata": {
        "id": "fyBemJPEB-w-"
      },
      "source": [
        "LABEL ENCODING DATA"
      ]
    },
    {
      "cell_type": "code",
      "metadata": {
        "id": "UUYPGFrACXXG"
      },
      "source": [
        "\n",
        "encoder = LabelEncoder() # to encode string to the values like 0,1,2 etc"
      ],
      "execution_count": null,
      "outputs": []
    },
    {
      "cell_type": "code",
      "metadata": {
        "id": "niZUpUajDSNH"
      },
      "source": [
        "columns_to_encode = ['RegNo.']\n",
        "for column in columns_to_encode:\n",
        "    dataset[column] = encoder.fit_transform(dataset[column])"
      ],
      "execution_count": null,
      "outputs": []
    },
    {
      "cell_type": "code",
      "metadata": {
        "colab": {
          "base_uri": "https://localhost:8080/",
          "height": 417
        },
        "id": "Kguq2miIDm0_",
        "outputId": "1d765cde-567a-4f10-f613-a7aed03aa836"
      },
      "source": [
        "dataset"
      ],
      "execution_count": null,
      "outputs": [
        {
          "output_type": "execute_result",
          "data": {
            "text/html": [
              "<div>\n",
              "<style scoped>\n",
              "    .dataframe tbody tr th:only-of-type {\n",
              "        vertical-align: middle;\n",
              "    }\n",
              "\n",
              "    .dataframe tbody tr th {\n",
              "        vertical-align: top;\n",
              "    }\n",
              "\n",
              "    .dataframe thead th {\n",
              "        text-align: right;\n",
              "    }\n",
              "</style>\n",
              "<table border=\"1\" class=\"dataframe\">\n",
              "  <thead>\n",
              "    <tr style=\"text-align: right;\">\n",
              "      <th></th>\n",
              "      <th>RegNo.</th>\n",
              "      <th>Quants</th>\n",
              "      <th>LogicalReasoning</th>\n",
              "      <th>Verbal</th>\n",
              "      <th>Programming</th>\n",
              "      <th>CGPA</th>\n",
              "      <th>Networking</th>\n",
              "      <th>CloudComp</th>\n",
              "      <th>WebServices</th>\n",
              "      <th>DataAnalytics</th>\n",
              "      <th>QualityAssurance</th>\n",
              "      <th>AI</th>\n",
              "      <th>Placed</th>\n",
              "    </tr>\n",
              "  </thead>\n",
              "  <tbody>\n",
              "    <tr>\n",
              "      <th>0</th>\n",
              "      <td>0</td>\n",
              "      <td>11</td>\n",
              "      <td>11</td>\n",
              "      <td>10</td>\n",
              "      <td>11</td>\n",
              "      <td>10.00</td>\n",
              "      <td>4.3</td>\n",
              "      <td>6.2</td>\n",
              "      <td>7.4</td>\n",
              "      <td>8.3</td>\n",
              "      <td>8.1</td>\n",
              "      <td>8.0</td>\n",
              "      <td>1</td>\n",
              "    </tr>\n",
              "    <tr>\n",
              "      <th>1</th>\n",
              "      <td>1</td>\n",
              "      <td>8</td>\n",
              "      <td>10</td>\n",
              "      <td>11</td>\n",
              "      <td>18</td>\n",
              "      <td>8.80</td>\n",
              "      <td>8.9</td>\n",
              "      <td>8.0</td>\n",
              "      <td>8.0</td>\n",
              "      <td>8.0</td>\n",
              "      <td>8.3</td>\n",
              "      <td>9.4</td>\n",
              "      <td>1</td>\n",
              "    </tr>\n",
              "    <tr>\n",
              "      <th>2</th>\n",
              "      <td>2</td>\n",
              "      <td>11</td>\n",
              "      <td>11</td>\n",
              "      <td>10</td>\n",
              "      <td>8</td>\n",
              "      <td>9.63</td>\n",
              "      <td>8.4</td>\n",
              "      <td>8.0</td>\n",
              "      <td>8.0</td>\n",
              "      <td>8.0</td>\n",
              "      <td>8.0</td>\n",
              "      <td>5.4</td>\n",
              "      <td>1</td>\n",
              "    </tr>\n",
              "    <tr>\n",
              "      <th>3</th>\n",
              "      <td>3</td>\n",
              "      <td>14</td>\n",
              "      <td>13</td>\n",
              "      <td>8</td>\n",
              "      <td>8</td>\n",
              "      <td>6.55</td>\n",
              "      <td>4.5</td>\n",
              "      <td>6.5</td>\n",
              "      <td>6.9</td>\n",
              "      <td>3.3</td>\n",
              "      <td>4.1</td>\n",
              "      <td>4.6</td>\n",
              "      <td>0</td>\n",
              "    </tr>\n",
              "    <tr>\n",
              "      <th>4</th>\n",
              "      <td>4</td>\n",
              "      <td>10</td>\n",
              "      <td>7</td>\n",
              "      <td>7</td>\n",
              "      <td>10</td>\n",
              "      <td>7.27</td>\n",
              "      <td>3.1</td>\n",
              "      <td>5.6</td>\n",
              "      <td>6.7</td>\n",
              "      <td>4.6</td>\n",
              "      <td>2.7</td>\n",
              "      <td>4.4</td>\n",
              "      <td>0</td>\n",
              "    </tr>\n",
              "    <tr>\n",
              "      <th>...</th>\n",
              "      <td>...</td>\n",
              "      <td>...</td>\n",
              "      <td>...</td>\n",
              "      <td>...</td>\n",
              "      <td>...</td>\n",
              "      <td>...</td>\n",
              "      <td>...</td>\n",
              "      <td>...</td>\n",
              "      <td>...</td>\n",
              "      <td>...</td>\n",
              "      <td>...</td>\n",
              "      <td>...</td>\n",
              "      <td>...</td>\n",
              "    </tr>\n",
              "    <tr>\n",
              "      <th>325</th>\n",
              "      <td>325</td>\n",
              "      <td>22</td>\n",
              "      <td>25</td>\n",
              "      <td>24</td>\n",
              "      <td>23</td>\n",
              "      <td>9.35</td>\n",
              "      <td>8.4</td>\n",
              "      <td>9.4</td>\n",
              "      <td>8.8</td>\n",
              "      <td>8.9</td>\n",
              "      <td>9.1</td>\n",
              "      <td>8.4</td>\n",
              "      <td>0</td>\n",
              "    </tr>\n",
              "    <tr>\n",
              "      <th>326</th>\n",
              "      <td>326</td>\n",
              "      <td>25</td>\n",
              "      <td>23</td>\n",
              "      <td>21</td>\n",
              "      <td>22</td>\n",
              "      <td>8.51</td>\n",
              "      <td>8.7</td>\n",
              "      <td>8.8</td>\n",
              "      <td>9.4</td>\n",
              "      <td>8.0</td>\n",
              "      <td>7.6</td>\n",
              "      <td>8.0</td>\n",
              "      <td>0</td>\n",
              "    </tr>\n",
              "    <tr>\n",
              "      <th>327</th>\n",
              "      <td>327</td>\n",
              "      <td>21</td>\n",
              "      <td>23</td>\n",
              "      <td>24</td>\n",
              "      <td>25</td>\n",
              "      <td>8.82</td>\n",
              "      <td>7.8</td>\n",
              "      <td>9.3</td>\n",
              "      <td>9.0</td>\n",
              "      <td>8.6</td>\n",
              "      <td>8.1</td>\n",
              "      <td>8.7</td>\n",
              "      <td>0</td>\n",
              "    </tr>\n",
              "    <tr>\n",
              "      <th>328</th>\n",
              "      <td>328</td>\n",
              "      <td>22</td>\n",
              "      <td>25</td>\n",
              "      <td>24</td>\n",
              "      <td>21</td>\n",
              "      <td>8.59</td>\n",
              "      <td>7.9</td>\n",
              "      <td>9.4</td>\n",
              "      <td>9.1</td>\n",
              "      <td>9.0</td>\n",
              "      <td>8.3</td>\n",
              "      <td>8.8</td>\n",
              "      <td>1</td>\n",
              "    </tr>\n",
              "    <tr>\n",
              "      <th>329</th>\n",
              "      <td>329</td>\n",
              "      <td>21</td>\n",
              "      <td>21</td>\n",
              "      <td>23</td>\n",
              "      <td>22</td>\n",
              "      <td>8.50</td>\n",
              "      <td>7.9</td>\n",
              "      <td>9.2</td>\n",
              "      <td>9.3</td>\n",
              "      <td>8.9</td>\n",
              "      <td>7.7</td>\n",
              "      <td>8.1</td>\n",
              "      <td>1</td>\n",
              "    </tr>\n",
              "  </tbody>\n",
              "</table>\n",
              "<p>330 rows × 13 columns</p>\n",
              "</div>"
            ],
            "text/plain": [
              "     RegNo.  Quants  LogicalReasoning  ...  QualityAssurance   AI  Placed\n",
              "0         0      11                11  ...               8.1  8.0       1\n",
              "1         1       8                10  ...               8.3  9.4       1\n",
              "2         2      11                11  ...               8.0  5.4       1\n",
              "3         3      14                13  ...               4.1  4.6       0\n",
              "4         4      10                 7  ...               2.7  4.4       0\n",
              "..      ...     ...               ...  ...               ...  ...     ...\n",
              "325     325      22                25  ...               9.1  8.4       0\n",
              "326     326      25                23  ...               7.6  8.0       0\n",
              "327     327      21                23  ...               8.1  8.7       0\n",
              "328     328      22                25  ...               8.3  8.8       1\n",
              "329     329      21                21  ...               7.7  8.1       1\n",
              "\n",
              "[330 rows x 13 columns]"
            ]
          },
          "metadata": {},
          "execution_count": 11
        }
      ]
    },
    {
      "cell_type": "code",
      "metadata": {
        "colab": {
          "base_uri": "https://localhost:8080/",
          "height": 295
        },
        "id": "QCqYwfg4Dv5h",
        "outputId": "d7b783c8-041d-455b-b3bf-50f428eb8f05"
      },
      "source": [
        "dataset.describe()"
      ],
      "execution_count": null,
      "outputs": [
        {
          "output_type": "execute_result",
          "data": {
            "text/html": [
              "<div>\n",
              "<style scoped>\n",
              "    .dataframe tbody tr th:only-of-type {\n",
              "        vertical-align: middle;\n",
              "    }\n",
              "\n",
              "    .dataframe tbody tr th {\n",
              "        vertical-align: top;\n",
              "    }\n",
              "\n",
              "    .dataframe thead th {\n",
              "        text-align: right;\n",
              "    }\n",
              "</style>\n",
              "<table border=\"1\" class=\"dataframe\">\n",
              "  <thead>\n",
              "    <tr style=\"text-align: right;\">\n",
              "      <th></th>\n",
              "      <th>RegNo.</th>\n",
              "      <th>Quants</th>\n",
              "      <th>LogicalReasoning</th>\n",
              "      <th>Verbal</th>\n",
              "      <th>Programming</th>\n",
              "      <th>CGPA</th>\n",
              "      <th>Networking</th>\n",
              "      <th>CloudComp</th>\n",
              "      <th>WebServices</th>\n",
              "      <th>DataAnalytics</th>\n",
              "      <th>QualityAssurance</th>\n",
              "      <th>AI</th>\n",
              "      <th>Placed</th>\n",
              "    </tr>\n",
              "  </thead>\n",
              "  <tbody>\n",
              "    <tr>\n",
              "      <th>count</th>\n",
              "      <td>330.000000</td>\n",
              "      <td>330.000000</td>\n",
              "      <td>330.000000</td>\n",
              "      <td>330.000000</td>\n",
              "      <td>330.000000</td>\n",
              "      <td>330.000000</td>\n",
              "      <td>330.000000</td>\n",
              "      <td>330.000000</td>\n",
              "      <td>330.000000</td>\n",
              "      <td>330.000000</td>\n",
              "      <td>330.000000</td>\n",
              "      <td>330.000000</td>\n",
              "      <td>330.000000</td>\n",
              "    </tr>\n",
              "    <tr>\n",
              "      <th>mean</th>\n",
              "      <td>164.500000</td>\n",
              "      <td>15.830303</td>\n",
              "      <td>15.990909</td>\n",
              "      <td>15.872727</td>\n",
              "      <td>15.957576</td>\n",
              "      <td>8.007758</td>\n",
              "      <td>6.303636</td>\n",
              "      <td>7.749697</td>\n",
              "      <td>7.829091</td>\n",
              "      <td>6.512727</td>\n",
              "      <td>6.417273</td>\n",
              "      <td>6.705455</td>\n",
              "      <td>0.396970</td>\n",
              "    </tr>\n",
              "    <tr>\n",
              "      <th>std</th>\n",
              "      <td>95.407023</td>\n",
              "      <td>4.266394</td>\n",
              "      <td>4.432188</td>\n",
              "      <td>4.353196</td>\n",
              "      <td>4.151905</td>\n",
              "      <td>0.647346</td>\n",
              "      <td>1.618243</td>\n",
              "      <td>0.913767</td>\n",
              "      <td>0.864534</td>\n",
              "      <td>1.518805</td>\n",
              "      <td>1.733412</td>\n",
              "      <td>1.336864</td>\n",
              "      <td>0.490013</td>\n",
              "    </tr>\n",
              "    <tr>\n",
              "      <th>min</th>\n",
              "      <td>0.000000</td>\n",
              "      <td>7.000000</td>\n",
              "      <td>7.000000</td>\n",
              "      <td>7.000000</td>\n",
              "      <td>7.000000</td>\n",
              "      <td>6.520000</td>\n",
              "      <td>2.500000</td>\n",
              "      <td>5.500000</td>\n",
              "      <td>5.500000</td>\n",
              "      <td>2.500000</td>\n",
              "      <td>1.800000</td>\n",
              "      <td>4.300000</td>\n",
              "      <td>0.000000</td>\n",
              "    </tr>\n",
              "    <tr>\n",
              "      <th>25%</th>\n",
              "      <td>82.250000</td>\n",
              "      <td>14.000000</td>\n",
              "      <td>14.000000</td>\n",
              "      <td>14.000000</td>\n",
              "      <td>14.000000</td>\n",
              "      <td>7.590000</td>\n",
              "      <td>5.600000</td>\n",
              "      <td>7.500000</td>\n",
              "      <td>7.500000</td>\n",
              "      <td>5.700000</td>\n",
              "      <td>5.700000</td>\n",
              "      <td>5.700000</td>\n",
              "      <td>0.000000</td>\n",
              "    </tr>\n",
              "    <tr>\n",
              "      <th>50%</th>\n",
              "      <td>164.500000</td>\n",
              "      <td>16.000000</td>\n",
              "      <td>16.000000</td>\n",
              "      <td>16.000000</td>\n",
              "      <td>16.000000</td>\n",
              "      <td>8.040000</td>\n",
              "      <td>6.500000</td>\n",
              "      <td>8.000000</td>\n",
              "      <td>8.000000</td>\n",
              "      <td>6.700000</td>\n",
              "      <td>6.650000</td>\n",
              "      <td>6.600000</td>\n",
              "      <td>0.000000</td>\n",
              "    </tr>\n",
              "    <tr>\n",
              "      <th>75%</th>\n",
              "      <td>246.750000</td>\n",
              "      <td>19.000000</td>\n",
              "      <td>19.000000</td>\n",
              "      <td>19.000000</td>\n",
              "      <td>19.000000</td>\n",
              "      <td>8.400000</td>\n",
              "      <td>7.300000</td>\n",
              "      <td>8.300000</td>\n",
              "      <td>8.300000</td>\n",
              "      <td>7.500000</td>\n",
              "      <td>7.475000</td>\n",
              "      <td>7.700000</td>\n",
              "      <td>1.000000</td>\n",
              "    </tr>\n",
              "    <tr>\n",
              "      <th>max</th>\n",
              "      <td>329.000000</td>\n",
              "      <td>25.000000</td>\n",
              "      <td>25.000000</td>\n",
              "      <td>25.000000</td>\n",
              "      <td>25.000000</td>\n",
              "      <td>10.000000</td>\n",
              "      <td>9.700000</td>\n",
              "      <td>9.500000</td>\n",
              "      <td>9.500000</td>\n",
              "      <td>9.400000</td>\n",
              "      <td>9.500000</td>\n",
              "      <td>9.800000</td>\n",
              "      <td>1.000000</td>\n",
              "    </tr>\n",
              "  </tbody>\n",
              "</table>\n",
              "</div>"
            ],
            "text/plain": [
              "           RegNo.      Quants  ...          AI      Placed\n",
              "count  330.000000  330.000000  ...  330.000000  330.000000\n",
              "mean   164.500000   15.830303  ...    6.705455    0.396970\n",
              "std     95.407023    4.266394  ...    1.336864    0.490013\n",
              "min      0.000000    7.000000  ...    4.300000    0.000000\n",
              "25%     82.250000   14.000000  ...    5.700000    0.000000\n",
              "50%    164.500000   16.000000  ...    6.600000    0.000000\n",
              "75%    246.750000   19.000000  ...    7.700000    1.000000\n",
              "max    329.000000   25.000000  ...    9.800000    1.000000\n",
              "\n",
              "[8 rows x 13 columns]"
            ]
          },
          "metadata": {},
          "execution_count": 12
        }
      ]
    },
    {
      "cell_type": "markdown",
      "metadata": {
        "id": "HWRIDE_NE1yF"
      },
      "source": [
        "Checking for Correlation"
      ]
    },
    {
      "cell_type": "code",
      "metadata": {
        "colab": {
          "base_uri": "https://localhost:8080/",
          "height": 450
        },
        "id": "YISpRROnE8Rq",
        "outputId": "d777c65d-231a-4a98-dd74-af2ae3a5d4ed"
      },
      "source": [
        "dataset.corr()"
      ],
      "execution_count": null,
      "outputs": [
        {
          "output_type": "execute_result",
          "data": {
            "text/html": [
              "<div>\n",
              "<style scoped>\n",
              "    .dataframe tbody tr th:only-of-type {\n",
              "        vertical-align: middle;\n",
              "    }\n",
              "\n",
              "    .dataframe tbody tr th {\n",
              "        vertical-align: top;\n",
              "    }\n",
              "\n",
              "    .dataframe thead th {\n",
              "        text-align: right;\n",
              "    }\n",
              "</style>\n",
              "<table border=\"1\" class=\"dataframe\">\n",
              "  <thead>\n",
              "    <tr style=\"text-align: right;\">\n",
              "      <th></th>\n",
              "      <th>RegNo.</th>\n",
              "      <th>Quants</th>\n",
              "      <th>LogicalReasoning</th>\n",
              "      <th>Verbal</th>\n",
              "      <th>Programming</th>\n",
              "      <th>CGPA</th>\n",
              "      <th>Networking</th>\n",
              "      <th>CloudComp</th>\n",
              "      <th>WebServices</th>\n",
              "      <th>DataAnalytics</th>\n",
              "      <th>QualityAssurance</th>\n",
              "      <th>AI</th>\n",
              "      <th>Placed</th>\n",
              "    </tr>\n",
              "  </thead>\n",
              "  <tbody>\n",
              "    <tr>\n",
              "      <th>RegNo.</th>\n",
              "      <td>1.000000</td>\n",
              "      <td>0.733019</td>\n",
              "      <td>0.745495</td>\n",
              "      <td>0.770883</td>\n",
              "      <td>0.767918</td>\n",
              "      <td>0.440158</td>\n",
              "      <td>0.624309</td>\n",
              "      <td>0.712335</td>\n",
              "      <td>0.625649</td>\n",
              "      <td>0.452548</td>\n",
              "      <td>0.434008</td>\n",
              "      <td>0.397577</td>\n",
              "      <td>0.025324</td>\n",
              "    </tr>\n",
              "    <tr>\n",
              "      <th>Quants</th>\n",
              "      <td>0.733019</td>\n",
              "      <td>1.000000</td>\n",
              "      <td>0.747361</td>\n",
              "      <td>0.805990</td>\n",
              "      <td>0.752021</td>\n",
              "      <td>0.478180</td>\n",
              "      <td>0.626786</td>\n",
              "      <td>0.713146</td>\n",
              "      <td>0.639416</td>\n",
              "      <td>0.538174</td>\n",
              "      <td>0.526724</td>\n",
              "      <td>0.460120</td>\n",
              "      <td>0.048314</td>\n",
              "    </tr>\n",
              "    <tr>\n",
              "      <th>LogicalReasoning</th>\n",
              "      <td>0.745495</td>\n",
              "      <td>0.747361</td>\n",
              "      <td>1.000000</td>\n",
              "      <td>0.755006</td>\n",
              "      <td>0.745899</td>\n",
              "      <td>0.520421</td>\n",
              "      <td>0.678945</td>\n",
              "      <td>0.734626</td>\n",
              "      <td>0.653143</td>\n",
              "      <td>0.535122</td>\n",
              "      <td>0.521059</td>\n",
              "      <td>0.489287</td>\n",
              "      <td>0.029657</td>\n",
              "    </tr>\n",
              "    <tr>\n",
              "      <th>Verbal</th>\n",
              "      <td>0.770883</td>\n",
              "      <td>0.805990</td>\n",
              "      <td>0.755006</td>\n",
              "      <td>1.000000</td>\n",
              "      <td>0.767733</td>\n",
              "      <td>0.508145</td>\n",
              "      <td>0.665136</td>\n",
              "      <td>0.752647</td>\n",
              "      <td>0.665265</td>\n",
              "      <td>0.521569</td>\n",
              "      <td>0.524341</td>\n",
              "      <td>0.487204</td>\n",
              "      <td>0.032307</td>\n",
              "    </tr>\n",
              "    <tr>\n",
              "      <th>Programming</th>\n",
              "      <td>0.767918</td>\n",
              "      <td>0.752021</td>\n",
              "      <td>0.745899</td>\n",
              "      <td>0.767733</td>\n",
              "      <td>1.000000</td>\n",
              "      <td>0.517991</td>\n",
              "      <td>0.633505</td>\n",
              "      <td>0.718641</td>\n",
              "      <td>0.649493</td>\n",
              "      <td>0.496989</td>\n",
              "      <td>0.523584</td>\n",
              "      <td>0.462497</td>\n",
              "      <td>0.017267</td>\n",
              "    </tr>\n",
              "    <tr>\n",
              "      <th>CGPA</th>\n",
              "      <td>0.440158</td>\n",
              "      <td>0.478180</td>\n",
              "      <td>0.520421</td>\n",
              "      <td>0.508145</td>\n",
              "      <td>0.517991</td>\n",
              "      <td>1.000000</td>\n",
              "      <td>0.598668</td>\n",
              "      <td>0.545847</td>\n",
              "      <td>0.643547</td>\n",
              "      <td>0.724325</td>\n",
              "      <td>0.765964</td>\n",
              "      <td>0.664781</td>\n",
              "      <td>0.301680</td>\n",
              "    </tr>\n",
              "    <tr>\n",
              "      <th>Networking</th>\n",
              "      <td>0.624309</td>\n",
              "      <td>0.626786</td>\n",
              "      <td>0.678945</td>\n",
              "      <td>0.665136</td>\n",
              "      <td>0.633505</td>\n",
              "      <td>0.598668</td>\n",
              "      <td>1.000000</td>\n",
              "      <td>0.808998</td>\n",
              "      <td>0.689744</td>\n",
              "      <td>0.647236</td>\n",
              "      <td>0.629090</td>\n",
              "      <td>0.587249</td>\n",
              "      <td>0.244261</td>\n",
              "    </tr>\n",
              "    <tr>\n",
              "      <th>CloudComp</th>\n",
              "      <td>0.712335</td>\n",
              "      <td>0.713146</td>\n",
              "      <td>0.734626</td>\n",
              "      <td>0.752647</td>\n",
              "      <td>0.718641</td>\n",
              "      <td>0.545847</td>\n",
              "      <td>0.808998</td>\n",
              "      <td>1.000000</td>\n",
              "      <td>0.712620</td>\n",
              "      <td>0.605635</td>\n",
              "      <td>0.608881</td>\n",
              "      <td>0.577035</td>\n",
              "      <td>0.150630</td>\n",
              "    </tr>\n",
              "    <tr>\n",
              "      <th>WebServices</th>\n",
              "      <td>0.625649</td>\n",
              "      <td>0.639416</td>\n",
              "      <td>0.653143</td>\n",
              "      <td>0.665265</td>\n",
              "      <td>0.649493</td>\n",
              "      <td>0.643547</td>\n",
              "      <td>0.689744</td>\n",
              "      <td>0.712620</td>\n",
              "      <td>1.000000</td>\n",
              "      <td>0.718914</td>\n",
              "      <td>0.710138</td>\n",
              "      <td>0.681473</td>\n",
              "      <td>0.242433</td>\n",
              "    </tr>\n",
              "    <tr>\n",
              "      <th>DataAnalytics</th>\n",
              "      <td>0.452548</td>\n",
              "      <td>0.538174</td>\n",
              "      <td>0.535122</td>\n",
              "      <td>0.521569</td>\n",
              "      <td>0.496989</td>\n",
              "      <td>0.724325</td>\n",
              "      <td>0.647236</td>\n",
              "      <td>0.605635</td>\n",
              "      <td>0.718914</td>\n",
              "      <td>1.000000</td>\n",
              "      <td>0.811888</td>\n",
              "      <td>0.719877</td>\n",
              "      <td>0.362392</td>\n",
              "    </tr>\n",
              "    <tr>\n",
              "      <th>QualityAssurance</th>\n",
              "      <td>0.434008</td>\n",
              "      <td>0.526724</td>\n",
              "      <td>0.521059</td>\n",
              "      <td>0.524341</td>\n",
              "      <td>0.523584</td>\n",
              "      <td>0.765964</td>\n",
              "      <td>0.629090</td>\n",
              "      <td>0.608881</td>\n",
              "      <td>0.710138</td>\n",
              "      <td>0.811888</td>\n",
              "      <td>1.000000</td>\n",
              "      <td>0.726976</td>\n",
              "      <td>0.376586</td>\n",
              "    </tr>\n",
              "    <tr>\n",
              "      <th>AI</th>\n",
              "      <td>0.397577</td>\n",
              "      <td>0.460120</td>\n",
              "      <td>0.489287</td>\n",
              "      <td>0.487204</td>\n",
              "      <td>0.462497</td>\n",
              "      <td>0.664781</td>\n",
              "      <td>0.587249</td>\n",
              "      <td>0.577035</td>\n",
              "      <td>0.681473</td>\n",
              "      <td>0.719877</td>\n",
              "      <td>0.726976</td>\n",
              "      <td>1.000000</td>\n",
              "      <td>0.358598</td>\n",
              "    </tr>\n",
              "    <tr>\n",
              "      <th>Placed</th>\n",
              "      <td>0.025324</td>\n",
              "      <td>0.048314</td>\n",
              "      <td>0.029657</td>\n",
              "      <td>0.032307</td>\n",
              "      <td>0.017267</td>\n",
              "      <td>0.301680</td>\n",
              "      <td>0.244261</td>\n",
              "      <td>0.150630</td>\n",
              "      <td>0.242433</td>\n",
              "      <td>0.362392</td>\n",
              "      <td>0.376586</td>\n",
              "      <td>0.358598</td>\n",
              "      <td>1.000000</td>\n",
              "    </tr>\n",
              "  </tbody>\n",
              "</table>\n",
              "</div>"
            ],
            "text/plain": [
              "                    RegNo.    Quants  ...        AI    Placed\n",
              "RegNo.            1.000000  0.733019  ...  0.397577  0.025324\n",
              "Quants            0.733019  1.000000  ...  0.460120  0.048314\n",
              "LogicalReasoning  0.745495  0.747361  ...  0.489287  0.029657\n",
              "Verbal            0.770883  0.805990  ...  0.487204  0.032307\n",
              "Programming       0.767918  0.752021  ...  0.462497  0.017267\n",
              "CGPA              0.440158  0.478180  ...  0.664781  0.301680\n",
              "Networking        0.624309  0.626786  ...  0.587249  0.244261\n",
              "CloudComp         0.712335  0.713146  ...  0.577035  0.150630\n",
              "WebServices       0.625649  0.639416  ...  0.681473  0.242433\n",
              "DataAnalytics     0.452548  0.538174  ...  0.719877  0.362392\n",
              "QualityAssurance  0.434008  0.526724  ...  0.726976  0.376586\n",
              "AI                0.397577  0.460120  ...  1.000000  0.358598\n",
              "Placed            0.025324  0.048314  ...  0.358598  1.000000\n",
              "\n",
              "[13 rows x 13 columns]"
            ]
          },
          "metadata": {},
          "execution_count": 16
        }
      ]
    },
    {
      "cell_type": "code",
      "metadata": {
        "colab": {
          "base_uri": "https://localhost:8080/",
          "height": 690
        },
        "id": "gZKunVJnFGVk",
        "outputId": "55bbfe8a-0012-49ea-c972-2e2463b3f48a"
      },
      "source": [
        "plt.figure(figsize=(20,10))\n",
        "sns.heatmap(dataset.corr().abs(), annot=True)#heatmap"
      ],
      "execution_count": null,
      "outputs": [
        {
          "output_type": "execute_result",
          "data": {
            "text/plain": [
              "<matplotlib.axes._subplots.AxesSubplot at 0x7f42f0f51350>"
            ]
          },
          "metadata": {},
          "execution_count": 17
        },
        {
          "output_type": "display_data",
          "data": {
            "image/png": "[encoded data removed]",
            "text/plain": [
              "<Figure size 1440x720 with 2 Axes>"
            ]
          },
          "metadata": {
            "needs_background": "light"
          }
        }
      ]
    },
    {
      "cell_type": "markdown",
      "metadata": {
        "id": "yPMKHi-zFf_7"
      },
      "source": [
        "\n",
        "Correlation between the features are atmost 0.9 so they are not multi-correlated"
      ]
    },
    {
      "cell_type": "code",
      "metadata": {
        "colab": {
          "base_uri": "https://localhost:8080/"
        },
        "id": "1ALYmEHiFg7s",
        "outputId": "8919f7cb-4d1f-48a4-97c0-4f4ad90fcf1d"
      },
      "source": [
        "dataset.shape"
      ],
      "execution_count": null,
      "outputs": [
        {
          "output_type": "execute_result",
          "data": {
            "text/plain": [
              "(330, 13)"
            ]
          },
          "metadata": {},
          "execution_count": 19
        }
      ]
    },
    {
      "cell_type": "code",
      "metadata": {
        "colab": {
          "base_uri": "https://localhost:8080/",
          "height": 1000
        },
        "id": "CY1JpahYFn3k",
        "outputId": "fac99c04-34ce-492f-a9f5-c79824075682"
      },
      "source": [
        "# checking distributions of all features\n",
        "fig, axs = plt.subplots(ncols=6,nrows=3,figsize=(13,10))\n",
        "index = 0\n",
        "axs = axs.flatten()\n",
        "for k,v in dataset.items():\n",
        "    sns.distplot(v, ax=axs[index])\n",
        "    index+=1\n",
        "\n",
        "\n",
        "plt.tight_layout(pad=0.3, w_pad=0.2,h_pad = 4.5)"
      ],
      "execution_count": null,
      "outputs": [
        {
          "output_type": "stream",
          "text": [
            "/usr/local/lib/python3.7/dist-packages/seaborn/distributions.py:2557: FutureWarning: `distplot` is a deprecated function and will be removed in a future version. Please adapt your code to use either `displot` (a figure-level function with similar flexibility) or `histplot` (an axes-level function for histograms).\n",
            "  warnings.warn(msg, FutureWarning)\n",
            "/usr/local/lib/python3.7/dist-packages/seaborn/distributions.py:2557: FutureWarning: `distplot` is a deprecated function and will be removed in a future version. Please adapt your code to use either `displot` (a figure-level function with similar flexibility) or `histplot` (an axes-level function for histograms).\n",
            "  warnings.warn(msg, FutureWarning)\n",
            "/usr/local/lib/python3.7/dist-packages/seaborn/distributions.py:2557: FutureWarning: `distplot` is a deprecated function and will be removed in a future version. Please adapt your code to use either `displot` (a figure-level function with similar flexibility) or `histplot` (an axes-level function for histograms).\n",
            "  warnings.warn(msg, FutureWarning)\n",
            "/usr/local/lib/python3.7/dist-packages/seaborn/distributions.py:2557: FutureWarning: `distplot` is a deprecated function and will be removed in a future version. Please adapt your code to use either `displot` (a figure-level function with similar flexibility) or `histplot` (an axes-level function for histograms).\n",
            "  warnings.warn(msg, FutureWarning)\n",
            "/usr/local/lib/python3.7/dist-packages/seaborn/distributions.py:2557: FutureWarning: `distplot` is a deprecated function and will be removed in a future version. Please adapt your code to use either `displot` (a figure-level function with similar flexibility) or `histplot` (an axes-level function for histograms).\n",
            "  warnings.warn(msg, FutureWarning)\n",
            "/usr/local/lib/python3.7/dist-packages/seaborn/distributions.py:2557: FutureWarning: `distplot` is a deprecated function and will be removed in a future version. Please adapt your code to use either `displot` (a figure-level function with similar flexibility) or `histplot` (an axes-level function for histograms).\n",
            "  warnings.warn(msg, FutureWarning)\n",
            "/usr/local/lib/python3.7/dist-packages/seaborn/distributions.py:2557: FutureWarning: `distplot` is a deprecated function and will be removed in a future version. Please adapt your code to use either `displot` (a figure-level function with similar flexibility) or `histplot` (an axes-level function for histograms).\n",
            "  warnings.warn(msg, FutureWarning)\n",
            "/usr/local/lib/python3.7/dist-packages/seaborn/distributions.py:2557: FutureWarning: `distplot` is a deprecated function and will be removed in a future version. Please adapt your code to use either `displot` (a figure-level function with similar flexibility) or `histplot` (an axes-level function for histograms).\n",
            "  warnings.warn(msg, FutureWarning)\n",
            "/usr/local/lib/python3.7/dist-packages/seaborn/distributions.py:2557: FutureWarning: `distplot` is a deprecated function and will be removed in a future version. Please adapt your code to use either `displot` (a figure-level function with similar flexibility) or `histplot` (an axes-level function for histograms).\n",
            "  warnings.warn(msg, FutureWarning)\n",
            "/usr/local/lib/python3.7/dist-packages/seaborn/distributions.py:2557: FutureWarning: `distplot` is a deprecated function and will be removed in a future version. Please adapt your code to use either `displot` (a figure-level function with similar flexibility) or `histplot` (an axes-level function for histograms).\n",
            "  warnings.warn(msg, FutureWarning)\n",
            "/usr/local/lib/python3.7/dist-packages/seaborn/distributions.py:2557: FutureWarning: `distplot` is a deprecated function and will be removed in a future version. Please adapt your code to use either `displot` (a figure-level function with similar flexibility) or `histplot` (an axes-level function for histograms).\n",
            "  warnings.warn(msg, FutureWarning)\n",
            "/usr/local/lib/python3.7/dist-packages/seaborn/distributions.py:2557: FutureWarning: `distplot` is a deprecated function and will be removed in a future version. Please adapt your code to use either `displot` (a figure-level function with similar flexibility) or `histplot` (an axes-level function for histograms).\n",
            "  warnings.warn(msg, FutureWarning)\n",
            "/usr/local/lib/python3.7/dist-packages/seaborn/distributions.py:2557: FutureWarning: `distplot` is a deprecated function and will be removed in a future version. Please adapt your code to use either `displot` (a figure-level function with similar flexibility) or `histplot` (an axes-level function for histograms).\n",
            "  warnings.warn(msg, FutureWarning)\n"
          ],
          "name": "stderr"
        },
        {
          "output_type": "display_data",
          "data": {
            "image/png": "[encoded data removed]",
            "text/plain": [
              "<Figure size 936x720 with 18 Axes>"
            ]
          },
          "metadata": {
            "needs_background": "light"
          }
        }
      ]
    },
    {
      "cell_type": "code",
      "metadata": {
        "id": "csheTD_6GMPT"
      },
      "source": [
        "x = dataset.loc[:,dataset.columns!='Placed'] # all features are used\n",
        "y = dataset.loc[:, 'Placed'] # label is status of placement"
      ],
      "execution_count": null,
      "outputs": []
    },
    {
      "cell_type": "code",
      "metadata": {
        "colab": {
          "base_uri": "https://localhost:8080/",
          "height": 417
        },
        "id": "UW3uWs3qGqiP",
        "outputId": "b6f32014-11da-4239-fa4c-b8aea5af2a86"
      },
      "source": [
        "x"
      ],
      "execution_count": null,
      "outputs": [
        {
          "output_type": "execute_result",
          "data": {
            "text/html": [
              "<div>\n",
              "<style scoped>\n",
              "    .dataframe tbody tr th:only-of-type {\n",
              "        vertical-align: middle;\n",
              "    }\n",
              "\n",
              "    .dataframe tbody tr th {\n",
              "        vertical-align: top;\n",
              "    }\n",
              "\n",
              "    .dataframe thead th {\n",
              "        text-align: right;\n",
              "    }\n",
              "</style>\n",
              "<table border=\"1\" class=\"dataframe\">\n",
              "  <thead>\n",
              "    <tr style=\"text-align: right;\">\n",
              "      <th></th>\n",
              "      <th>RegNo.</th>\n",
              "      <th>Quants</th>\n",
              "      <th>LogicalReasoning</th>\n",
              "      <th>Verbal</th>\n",
              "      <th>Programming</th>\n",
              "      <th>CGPA</th>\n",
              "      <th>Networking</th>\n",
              "      <th>CloudComp</th>\n",
              "      <th>WebServices</th>\n",
              "      <th>DataAnalytics</th>\n",
              "      <th>QualityAssurance</th>\n",
              "      <th>AI</th>\n",
              "    </tr>\n",
              "  </thead>\n",
              "  <tbody>\n",
              "    <tr>\n",
              "      <th>0</th>\n",
              "      <td>0</td>\n",
              "      <td>11</td>\n",
              "      <td>11</td>\n",
              "      <td>10</td>\n",
              "      <td>11</td>\n",
              "      <td>10.00</td>\n",
              "      <td>4.3</td>\n",
              "      <td>6.2</td>\n",
              "      <td>7.4</td>\n",
              "      <td>8.3</td>\n",
              "      <td>8.1</td>\n",
              "      <td>8.0</td>\n",
              "    </tr>\n",
              "    <tr>\n",
              "      <th>1</th>\n",
              "      <td>1</td>\n",
              "      <td>8</td>\n",
              "      <td>10</td>\n",
              "      <td>11</td>\n",
              "      <td>18</td>\n",
              "      <td>8.80</td>\n",
              "      <td>8.9</td>\n",
              "      <td>8.0</td>\n",
              "      <td>8.0</td>\n",
              "      <td>8.0</td>\n",
              "      <td>8.3</td>\n",
              "      <td>9.4</td>\n",
              "    </tr>\n",
              "    <tr>\n",
              "      <th>2</th>\n",
              "      <td>2</td>\n",
              "      <td>11</td>\n",
              "      <td>11</td>\n",
              "      <td>10</td>\n",
              "      <td>8</td>\n",
              "      <td>9.63</td>\n",
              "      <td>8.4</td>\n",
              "      <td>8.0</td>\n",
              "      <td>8.0</td>\n",
              "      <td>8.0</td>\n",
              "      <td>8.0</td>\n",
              "      <td>5.4</td>\n",
              "    </tr>\n",
              "    <tr>\n",
              "      <th>3</th>\n",
              "      <td>3</td>\n",
              "      <td>14</td>\n",
              "      <td>13</td>\n",
              "      <td>8</td>\n",
              "      <td>8</td>\n",
              "      <td>6.55</td>\n",
              "      <td>4.5</td>\n",
              "      <td>6.5</td>\n",
              "      <td>6.9</td>\n",
              "      <td>3.3</td>\n",
              "      <td>4.1</td>\n",
              "      <td>4.6</td>\n",
              "    </tr>\n",
              "    <tr>\n",
              "      <th>4</th>\n",
              "      <td>4</td>\n",
              "      <td>10</td>\n",
              "      <td>7</td>\n",
              "      <td>7</td>\n",
              "      <td>10</td>\n",
              "      <td>7.27</td>\n",
              "      <td>3.1</td>\n",
              "      <td>5.6</td>\n",
              "      <td>6.7</td>\n",
              "      <td>4.6</td>\n",
              "      <td>2.7</td>\n",
              "      <td>4.4</td>\n",
              "    </tr>\n",
              "    <tr>\n",
              "      <th>...</th>\n",
              "      <td>...</td>\n",
              "      <td>...</td>\n",
              "      <td>...</td>\n",
              "      <td>...</td>\n",
              "      <td>...</td>\n",
              "      <td>...</td>\n",
              "      <td>...</td>\n",
              "      <td>...</td>\n",
              "      <td>...</td>\n",
              "      <td>...</td>\n",
              "      <td>...</td>\n",
              "      <td>...</td>\n",
              "    </tr>\n",
              "    <tr>\n",
              "      <th>325</th>\n",
              "      <td>325</td>\n",
              "      <td>22</td>\n",
              "      <td>25</td>\n",
              "      <td>24</td>\n",
              "      <td>23</td>\n",
              "      <td>9.35</td>\n",
              "      <td>8.4</td>\n",
              "      <td>9.4</td>\n",
              "      <td>8.8</td>\n",
              "      <td>8.9</td>\n",
              "      <td>9.1</td>\n",
              "      <td>8.4</td>\n",
              "    </tr>\n",
              "    <tr>\n",
              "      <th>326</th>\n",
              "      <td>326</td>\n",
              "      <td>25</td>\n",
              "      <td>23</td>\n",
              "      <td>21</td>\n",
              "      <td>22</td>\n",
              "      <td>8.51</td>\n",
              "      <td>8.7</td>\n",
              "      <td>8.8</td>\n",
              "      <td>9.4</td>\n",
              "      <td>8.0</td>\n",
              "      <td>7.6</td>\n",
              "      <td>8.0</td>\n",
              "    </tr>\n",
              "    <tr>\n",
              "      <th>327</th>\n",
              "      <td>327</td>\n",
              "      <td>21</td>\n",
              "      <td>23</td>\n",
              "      <td>24</td>\n",
              "      <td>25</td>\n",
              "      <td>8.82</td>\n",
              "      <td>7.8</td>\n",
              "      <td>9.3</td>\n",
              "      <td>9.0</td>\n",
              "      <td>8.6</td>\n",
              "      <td>8.1</td>\n",
              "      <td>8.7</td>\n",
              "    </tr>\n",
              "    <tr>\n",
              "      <th>328</th>\n",
              "      <td>328</td>\n",
              "      <td>22</td>\n",
              "      <td>25</td>\n",
              "      <td>24</td>\n",
              "      <td>21</td>\n",
              "      <td>8.59</td>\n",
              "      <td>7.9</td>\n",
              "      <td>9.4</td>\n",
              "      <td>9.1</td>\n",
              "      <td>9.0</td>\n",
              "      <td>8.3</td>\n",
              "      <td>8.8</td>\n",
              "    </tr>\n",
              "    <tr>\n",
              "      <th>329</th>\n",
              "      <td>329</td>\n",
              "      <td>21</td>\n",
              "      <td>21</td>\n",
              "      <td>23</td>\n",
              "      <td>22</td>\n",
              "      <td>8.50</td>\n",
              "      <td>7.9</td>\n",
              "      <td>9.2</td>\n",
              "      <td>9.3</td>\n",
              "      <td>8.9</td>\n",
              "      <td>7.7</td>\n",
              "      <td>8.1</td>\n",
              "    </tr>\n",
              "  </tbody>\n",
              "</table>\n",
              "<p>330 rows × 12 columns</p>\n",
              "</div>"
            ],
            "text/plain": [
              "     RegNo.  Quants  LogicalReasoning  ...  DataAnalytics  QualityAssurance   AI\n",
              "0         0      11                11  ...            8.3               8.1  8.0\n",
              "1         1       8                10  ...            8.0               8.3  9.4\n",
              "2         2      11                11  ...            8.0               8.0  5.4\n",
              "3         3      14                13  ...            3.3               4.1  4.6\n",
              "4         4      10                 7  ...            4.6               2.7  4.4\n",
              "..      ...     ...               ...  ...            ...               ...  ...\n",
              "325     325      22                25  ...            8.9               9.1  8.4\n",
              "326     326      25                23  ...            8.0               7.6  8.0\n",
              "327     327      21                23  ...            8.6               8.1  8.7\n",
              "328     328      22                25  ...            9.0               8.3  8.8\n",
              "329     329      21                21  ...            8.9               7.7  8.1\n",
              "\n",
              "[330 rows x 12 columns]"
            ]
          },
          "metadata": {},
          "execution_count": 25
        }
      ]
    },
    {
      "cell_type": "code",
      "metadata": {
        "colab": {
          "base_uri": "https://localhost:8080/"
        },
        "id": "wvOWz_EfGu2I",
        "outputId": "4a9c4cd3-f93f-4a81-a7a3-d755307f915a"
      },
      "source": [
        "y"
      ],
      "execution_count": null,
      "outputs": [
        {
          "output_type": "execute_result",
          "data": {
            "text/plain": [
              "0      1\n",
              "1      1\n",
              "2      1\n",
              "3      0\n",
              "4      0\n",
              "      ..\n",
              "325    0\n",
              "326    0\n",
              "327    0\n",
              "328    1\n",
              "329    1\n",
              "Name: Placed, Length: 330, dtype: int64"
            ]
          },
          "metadata": {},
          "execution_count": 26
        }
      ]
    },
    {
      "cell_type": "code",
      "metadata": {
        "id": "scNv3wYnGzHD"
      },
      "source": [
        "sc= StandardScaler()\n",
        "x_scaled = sc.fit_transform(x) # for standardising the features\n",
        "x_scaled = pd.DataFrame(x_scaled)"
      ],
      "execution_count": null,
      "outputs": []
    },
    {
      "cell_type": "code",
      "metadata": {
        "id": "GCYhXG5tG4Jh"
      },
      "source": [
        "x_train,x_test, y_train, y_test = train_test_split(x_scaled,y,test_size=0.18, random_state=0)"
      ],
      "execution_count": null,
      "outputs": []
    },
    {
      "cell_type": "markdown",
      "metadata": {
        "id": "0PxBi_k6I79_"
      },
      "source": [
        "Using Logistic Regression"
      ]
    },
    {
      "cell_type": "code",
      "metadata": {
        "id": "Ihwh-vW6I86N"
      },
      "source": [
        "lr = LogisticRegression()"
      ],
      "execution_count": null,
      "outputs": []
    },
    {
      "cell_type": "code",
      "metadata": {
        "colab": {
          "base_uri": "https://localhost:8080/"
        },
        "id": "9bsrQkXiJCji",
        "outputId": "a3fd3b9a-8d55-4def-e5ea-61bce3d82d57"
      },
      "source": [
        "lr.fit(x_train, y_train)"
      ],
      "execution_count": null,
      "outputs": [
        {
          "output_type": "execute_result",
          "data": {
            "text/plain": [
              "LogisticRegression(C=1.0, class_weight=None, dual=False, fit_intercept=True,\n",
              "                   intercept_scaling=1, l1_ratio=None, max_iter=100,\n",
              "                   multi_class='auto', n_jobs=None, penalty='l2',\n",
              "                   random_state=None, solver='lbfgs', tol=0.0001, verbose=0,\n",
              "                   warm_start=False)"
            ]
          },
          "metadata": {},
          "execution_count": 30
        }
      ]
    },
    {
      "cell_type": "code",
      "metadata": {
        "id": "lLrtVg0lJH0C"
      },
      "source": [
        "y_pred = lr.predict(x_test)"
      ],
      "execution_count": null,
      "outputs": []
    },
    {
      "cell_type": "code",
      "metadata": {
        "colab": {
          "base_uri": "https://localhost:8080/"
        },
        "id": "5D7kAsd4JL2f",
        "outputId": "6e92dab5-40de-4569-bfa8-2119b163ae61"
      },
      "source": [
        "y_pred"
      ],
      "execution_count": null,
      "outputs": [
        {
          "output_type": "execute_result",
          "data": {
            "text/plain": [
              "array([0, 0, 0, 0, 1, 1, 0, 0, 0, 0, 0, 0, 0, 0, 0, 0, 0, 1, 1, 0, 1, 1,\n",
              "       0, 1, 1, 1, 1, 1, 0, 0, 1, 0, 0, 0, 1, 0, 0, 0, 0, 0, 0, 1, 1, 1,\n",
              "       1, 0, 0, 0, 1, 0, 0, 0, 1, 0, 0, 0, 1, 0, 0, 1])"
            ]
          },
          "metadata": {},
          "execution_count": 32
        }
      ]
    },
    {
      "cell_type": "code",
      "metadata": {
        "colab": {
          "base_uri": "https://localhost:8080/"
        },
        "id": "aeLPZMutJPSe",
        "outputId": "9f6db716-2dc0-4318-8298-61d3a2322cf5"
      },
      "source": [
        "y_test"
      ],
      "execution_count": null,
      "outputs": [
        {
          "output_type": "execute_result",
          "data": {
            "text/plain": [
              "122    0\n",
              "66     0\n",
              "142    1\n",
              "246    0\n",
              "146    1\n",
              "63     1\n",
              "269    1\n",
              "15     0\n",
              "136    0\n",
              "144    0\n",
              "268    0\n",
              "59     0\n",
              "26     0\n",
              "68     0\n",
              "213    1\n",
              "250    1\n",
              "157    0\n",
              "108    0\n",
              "60     1\n",
              "212    0\n",
              "210    0\n",
              "233    1\n",
              "170    0\n",
              "296    0\n",
              "221    0\n",
              "300    1\n",
              "308    0\n",
              "220    1\n",
              "278    0\n",
              "171    1\n",
              "189    0\n",
              "239    0\n",
              "218    0\n",
              "7      0\n",
              "6      1\n",
              "56     1\n",
              "55     0\n",
              "22     0\n",
              "120    0\n",
              "64     0\n",
              "264    0\n",
              "21     1\n",
              "134    1\n",
              "263    0\n",
              "12     1\n",
              "223    0\n",
              "158    0\n",
              "168    1\n",
              "102    1\n",
              "116    1\n",
              "17     0\n",
              "140    1\n",
              "76     1\n",
              "248    1\n",
              "100    0\n",
              "191    1\n",
              "293    0\n",
              "65     0\n",
              "81     0\n",
              "309    0\n",
              "Name: Placed, dtype: int64"
            ]
          },
          "metadata": {},
          "execution_count": 33
        }
      ]
    },
    {
      "cell_type": "code",
      "metadata": {
        "colab": {
          "base_uri": "https://localhost:8080/"
        },
        "id": "iTpkRJZ2JWWf",
        "outputId": "3b3d3ad2-fb35-4633-b8f2-3c35707141ad"
      },
      "source": [
        "accuracy_score(y_test, y_pred)"
      ],
      "execution_count": null,
      "outputs": [
        {
          "output_type": "execute_result",
          "data": {
            "text/plain": [
              "0.6666666666666666"
            ]
          },
          "metadata": {},
          "execution_count": 34
        }
      ]
    },
    {
      "cell_type": "code",
      "metadata": {
        "colab": {
          "base_uri": "https://localhost:8080/"
        },
        "id": "NLkti0uGJaM1",
        "outputId": "a18a60cd-b34b-45d0-c922-c2d987200b29"
      },
      "source": [
        "lr.score(x_train,y_train)"
      ],
      "execution_count": null,
      "outputs": [
        {
          "output_type": "execute_result",
          "data": {
            "text/plain": [
              "0.7296296296296296"
            ]
          },
          "metadata": {},
          "execution_count": 35
        }
      ]
    },
    {
      "cell_type": "code",
      "metadata": {
        "colab": {
          "base_uri": "https://localhost:8080/"
        },
        "id": "yWaQU3gAJdaV",
        "outputId": "630eaa42-8693-43ac-8aec-1026dace055c"
      },
      "source": [
        "confusion_matrix(y_test, y_pred)"
      ],
      "execution_count": null,
      "outputs": [
        {
          "output_type": "execute_result",
          "data": {
            "text/plain": [
              "array([[28,  9],\n",
              "       [11, 12]])"
            ]
          },
          "metadata": {},
          "execution_count": 36
        }
      ]
    },
    {
      "cell_type": "code",
      "metadata": {
        "colab": {
          "base_uri": "https://localhost:8080/"
        },
        "id": "h-A0OSm4JkMt",
        "outputId": "c7fbcdeb-24da-42a2-c1a1-a11e01abb288"
      },
      "source": [
        "print(classification_report(y_test,y_pred))"
      ],
      "execution_count": null,
      "outputs": [
        {
          "output_type": "stream",
          "text": [
            "              precision    recall  f1-score   support\n",
            "\n",
            "           0       0.72      0.76      0.74        37\n",
            "           1       0.57      0.52      0.55        23\n",
            "\n",
            "    accuracy                           0.67        60\n",
            "   macro avg       0.64      0.64      0.64        60\n",
            "weighted avg       0.66      0.67      0.66        60\n",
            "\n"
          ],
          "name": "stdout"
        }
      ]
    },
    {
      "cell_type": "markdown",
      "metadata": {
        "id": "qAQL3Bx7JqDW"
      },
      "source": [
        "Using Naive Bayes Classifier - Gaussian Naive Bayes¶"
      ]
    },
    {
      "cell_type": "code",
      "metadata": {
        "id": "T6Kt76qgJq-F"
      },
      "source": [
        "nbclassifier = GaussianNB()"
      ],
      "execution_count": null,
      "outputs": []
    },
    {
      "cell_type": "code",
      "metadata": {
        "colab": {
          "base_uri": "https://localhost:8080/"
        },
        "id": "n54quOITJ57r",
        "outputId": "8c4d3843-1b22-4057-e61f-7f31876a0ea4"
      },
      "source": [
        "nbclassifier.fit(x_train, y_train)"
      ],
      "execution_count": null,
      "outputs": [
        {
          "output_type": "execute_result",
          "data": {
            "text/plain": [
              "GaussianNB(priors=None, var_smoothing=1e-09)"
            ]
          },
          "metadata": {},
          "execution_count": 39
        }
      ]
    },
    {
      "cell_type": "code",
      "metadata": {
        "id": "5fbUtqiIKC__"
      },
      "source": [
        "y_pred_nb = nbclassifier.predict(x_test)"
      ],
      "execution_count": null,
      "outputs": []
    },
    {
      "cell_type": "code",
      "metadata": {
        "colab": {
          "base_uri": "https://localhost:8080/"
        },
        "id": "msi238lBKHvJ",
        "outputId": "e78a660f-b623-4b6e-bf44-ce57c5bae368"
      },
      "source": [
        "accuracy_score(y_test, y_pred_nb)"
      ],
      "execution_count": null,
      "outputs": [
        {
          "output_type": "execute_result",
          "data": {
            "text/plain": [
              "0.5"
            ]
          },
          "metadata": {},
          "execution_count": 41
        }
      ]
    },
    {
      "cell_type": "code",
      "metadata": {
        "colab": {
          "base_uri": "https://localhost:8080/"
        },
        "id": "2vtRGBeTKK_b",
        "outputId": "03dad8c2-e73b-4aac-df6d-e7dd97fe6c24"
      },
      "source": [
        "nbclassifier.score(x_train, y_train)"
      ],
      "execution_count": null,
      "outputs": [
        {
          "output_type": "execute_result",
          "data": {
            "text/plain": [
              "0.5888888888888889"
            ]
          },
          "metadata": {},
          "execution_count": 42
        }
      ]
    },
    {
      "cell_type": "code",
      "metadata": {
        "colab": {
          "base_uri": "https://localhost:8080/"
        },
        "id": "lWF2dY9eKM30",
        "outputId": "ec70987e-859b-4e45-fa88-6d2c46740d5c"
      },
      "source": [
        "confusion_matrix(y_test, y_pred_nb)"
      ],
      "execution_count": null,
      "outputs": [
        {
          "output_type": "execute_result",
          "data": {
            "text/plain": [
              "array([[15, 22],\n",
              "       [ 8, 15]])"
            ]
          },
          "metadata": {},
          "execution_count": 43
        }
      ]
    },
    {
      "cell_type": "code",
      "metadata": {
        "colab": {
          "base_uri": "https://localhost:8080/"
        },
        "id": "-tFwE6gsKSXl",
        "outputId": "d95f55bc-e6c5-435c-baca-eb5fc4f19266"
      },
      "source": [
        "print(classification_report(y_test,y_pred_nb))"
      ],
      "execution_count": null,
      "outputs": [
        {
          "output_type": "stream",
          "text": [
            "              precision    recall  f1-score   support\n",
            "\n",
            "           0       0.65      0.41      0.50        37\n",
            "           1       0.41      0.65      0.50        23\n",
            "\n",
            "    accuracy                           0.50        60\n",
            "   macro avg       0.53      0.53      0.50        60\n",
            "weighted avg       0.56      0.50      0.50        60\n",
            "\n"
          ],
          "name": "stdout"
        }
      ]
    },
    {
      "cell_type": "markdown",
      "metadata": {
        "id": "nONXdNkCKfYW"
      },
      "source": [
        "Using SVM Linear Kernel"
      ]
    },
    {
      "cell_type": "code",
      "metadata": {
        "id": "pxf2F8OaKgV0"
      },
      "source": [
        "clf = svm.SVC(kernel=\"linear\")"
      ],
      "execution_count": null,
      "outputs": []
    },
    {
      "cell_type": "code",
      "metadata": {
        "colab": {
          "base_uri": "https://localhost:8080/"
        },
        "id": "rt-mjOE7KmNK",
        "outputId": "38c781d9-54b7-4b92-f187-506b3f667585"
      },
      "source": [
        "clf.fit(x_train, y_train)"
      ],
      "execution_count": null,
      "outputs": [
        {
          "output_type": "execute_result",
          "data": {
            "text/plain": [
              "SVC(C=1.0, break_ties=False, cache_size=200, class_weight=None, coef0=0.0,\n",
              "    decision_function_shape='ovr', degree=3, gamma='scale', kernel='linear',\n",
              "    max_iter=-1, probability=False, random_state=None, shrinking=True,\n",
              "    tol=0.001, verbose=False)"
            ]
          },
          "metadata": {},
          "execution_count": 46
        }
      ]
    },
    {
      "cell_type": "code",
      "metadata": {
        "id": "1EcKaZ2JKpYG"
      },
      "source": [
        "y_pred_svm = clf.predict(x_test)"
      ],
      "execution_count": null,
      "outputs": []
    },
    {
      "cell_type": "code",
      "metadata": {
        "colab": {
          "base_uri": "https://localhost:8080/"
        },
        "id": "-Nt7b6JdK66p",
        "outputId": "e782a8df-1818-43a2-ec9b-02c5f4bbb9ac"
      },
      "source": [
        "accuracy_score(y_test, y_pred_svm)\n"
      ],
      "execution_count": null,
      "outputs": [
        {
          "output_type": "execute_result",
          "data": {
            "text/plain": [
              "0.7666666666666667"
            ]
          },
          "metadata": {},
          "execution_count": 48
        }
      ]
    },
    {
      "cell_type": "code",
      "metadata": {
        "colab": {
          "base_uri": "https://localhost:8080/"
        },
        "id": "OpGy8ul8K_1r",
        "outputId": "b58a004d-7edf-4fbf-caa6-05804128bac9"
      },
      "source": [
        "clf.score(x_train, y_train)"
      ],
      "execution_count": null,
      "outputs": [
        {
          "output_type": "execute_result",
          "data": {
            "text/plain": [
              "0.7333333333333333"
            ]
          },
          "metadata": {},
          "execution_count": 49
        }
      ]
    },
    {
      "cell_type": "code",
      "metadata": {
        "colab": {
          "base_uri": "https://localhost:8080/"
        },
        "id": "FMK5rh9HLELn",
        "outputId": "b8c94ac0-3fed-4512-a6a6-82c10ce870d1"
      },
      "source": [
        "confusion_matrix(y_test, y_pred_svm)"
      ],
      "execution_count": null,
      "outputs": [
        {
          "output_type": "execute_result",
          "data": {
            "text/plain": [
              "array([[34,  3],\n",
              "       [11, 12]])"
            ]
          },
          "metadata": {},
          "execution_count": 50
        }
      ]
    },
    {
      "cell_type": "code",
      "metadata": {
        "colab": {
          "base_uri": "https://localhost:8080/"
        },
        "id": "OYOvqjm_LHPS",
        "outputId": "bca58b73-1935-40d9-a7a2-70efafbd79e2"
      },
      "source": [
        "print(classification_report(y_test, y_pred_svm))"
      ],
      "execution_count": null,
      "outputs": [
        {
          "output_type": "stream",
          "text": [
            "              precision    recall  f1-score   support\n",
            "\n",
            "           0       0.76      0.92      0.83        37\n",
            "           1       0.80      0.52      0.63        23\n",
            "\n",
            "    accuracy                           0.77        60\n",
            "   macro avg       0.78      0.72      0.73        60\n",
            "weighted avg       0.77      0.77      0.75        60\n",
            "\n"
          ],
          "name": "stdout"
        }
      ]
    },
    {
      "cell_type": "markdown",
      "metadata": {
        "id": "Lo9uQvmrLL-J"
      },
      "source": [
        "We conclude that Logistic Regression works better with better accuracy but difference in scores is highest among three.\n",
        "\n",
        "Gaussian Naive Bayes was less accurate but the difference in known and unknown data was lesser.\n",
        "\n",
        "So, Naive Bayes was better for not overfitting the data\n",
        "Logistic Regression was better for accuracy\n",
        "But, SVM gave better accuracy with least difference in score.\n",
        "So, Our final model would use SVM for Student Placement Prediction.\n",
        "\n"
      ]
    }
  ]
}